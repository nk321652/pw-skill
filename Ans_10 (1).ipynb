{
  "nbformat": 4,
  "nbformat_minor": 0,
  "metadata": {
    "colab": {
      "provenance": []
    },
    "kernelspec": {
      "name": "python3",
      "display_name": "Python 3"
    },
    "language_info": {
      "name": "python"
    }
  },
  "cells": [
    {
      "cell_type": "markdown",
      "source": [
        "Class method :\n",
        "It is bound to the class and not the instance of the class.\n",
        "It takes the class itself as the first argument conventionally named cls.\n",
        "It is access and modify class level attributes.\n",
        "iT is defined using the @classmethod decorator.\n",
        "It is cxalled using the class name or an instance of the class.\n",
        "It is often used as factory metrhods or to perform operatins that involve the class itself.\n",
        "\n",
        "\n",
        "Static method:\n",
        "\n",
        "It is also bound to the class and not the instance of the class.\n",
        "It does not take any implicit first argument.\n",
        "It is defined using the @staticmethod decorators.\n",
        "It is called using the class name or an instance of the class."
      ],
      "metadata": {
        "id": "ar6KxDsoTJFG"
      }
    },
    {
      "cell_type": "code",
      "source": [
        "class Myclass:\n",
        "  class_variable = \"class Variable\"\n",
        "\n",
        "  def __init__(self,instance_variable):\n",
        "    self.instance_variable = instance_variable\n",
        "\n",
        "  @classmethod\n",
        "  def class_method(cls):\n",
        "      print(\"class metho called\")\n",
        "      print(f\"Accessing class variable:{cls.class_variable}\")\n",
        "\n",
        "  @staticmethod\n",
        "  def static_method():\n",
        "      print(\"static method called\")\n",
        "\n",
        "  def instance_method(self):\n",
        "      print(\"instance method called\")\n",
        "      print(f\"Accessing instance variable:{self.instance_variable}\")\n",
        "\n",
        "    @classmethod\n",
        "    def class_method(cls):\n",
        "      print(\"class metho called\")\n",
        "      print(f\"Accessing class variable:{cls.class_variable}\")\n",
        "\n",
        "    @staticmethod\n",
        "    def static_method():\n",
        "      print(\"static method called\")\n",
        "\n",
        "    def instance_method(self):\n",
        "      print(\"instance method called\")\n",
        "      print(f\"Accessing instance variable:{self.instance_variable}\")"
      ],
      "metadata": {
        "id": "CmuesdT8VCAq"
      },
      "execution_count": null,
      "outputs": []
    }
  ]
}