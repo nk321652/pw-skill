{
  "nbformat": 4,
  "nbformat_minor": 0,
  "metadata": {
    "colab": {
      "provenance": []
    },
    "kernelspec": {
      "name": "python3",
      "display_name": "Python 3"
    },
    "language_info": {
      "name": "python"
    }
  },
  "cells": [
    {
      "cell_type": "markdown",
      "source": [
        "Object oriented programming offers several advantages , including improved cpde organization through encapsulation,reusablility via inheritance and flexibility through polymorphism.it also simplifies complex systems through abstraction , leading to modular maintainable and sclable software.\n",
        "\n",
        "\n",
        "\n",
        "OOP promotes modularity by breaking down complex systems into smaller self contained units called object .Each object encapsulates its data and behaviour making it esier to devlope ,test and maintain individuals parts of the system.\n",
        "\n",
        "\n",
        "OOPs allows for flexibility in code .It enables a single function to adapt to differnt objects can passthrough the same interface.\n",
        "\n",
        "\n",
        "Abstraction in OOP helps to simplyfy complex systems by hiding implementation details and focusing on essential features .This makes it easier for developing to understand and work with the system."
      ],
      "metadata": {
        "id": "8ZcfgA5ChluA"
      }
    }
  ]
}