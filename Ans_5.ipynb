{
  "nbformat": 4,
  "nbformat_minor": 0,
  "metadata": {
    "colab": {
      "provenance": []
    },
    "kernelspec": {
      "name": "python3",
      "display_name": "Python 3"
    },
    "language_info": {
      "name": "python"
    }
  },
  "cells": [
    {
      "cell_type": "markdown",
      "source": [
        "Dunder methods also known as magic methods are special mehods in pythone that begin and end with double underscores .\n",
        "They allow classes to define how they behave with built in python operations and functions .These methods are automatically called by the python interpreter in specific scenarios , enabling operators overloading and customization of object behaviour.\n"
      ],
      "metadata": {
        "id": "xFVecRuGXSak"
      }
    },
    {
      "cell_type": "code",
      "source": [
        "def __init__(self,...):\n",
        "    \"\"\"This method is the constructor for a class. It is called when an object is created. It initializes the object's attributes.\"\"\"\n",
        "    pass"
      ],
      "metadata": {
        "id": "vTZWgGtBYJ6d"
      },
      "execution_count": null,
      "outputs": []
    },
    {
      "cell_type": "code",
      "source": [
        "__str__(self):This method returns a string representation of the object.whic is used when str() or print ()is called on the object."
      ],
      "metadata": {
        "id": "oNwfKC-7YoN-"
      },
      "execution_count": null,
      "outputs": []
    },
    {
      "cell_type": "code",
      "source": [
        "__len__(self):This method returns the length of the object , which is used when len() is called the object."
      ],
      "metadata": {
        "id": "1m8NXByRZArg"
      },
      "execution_count": null,
      "outputs": []
    }
  ]
}