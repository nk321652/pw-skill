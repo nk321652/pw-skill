{
  "nbformat": 4,
  "nbformat_minor": 0,
  "metadata": {
    "colab": {
      "provenance": []
    },
    "kernelspec": {
      "name": "python3",
      "display_name": "Python 3"
    },
    "language_info": {
      "name": "python"
    }
  },
  "cells": [
    {
      "cell_type": "markdown",
      "source": [
        "In python a property decorator is a built in feature that allows methods to be accessed like attributes , providing a way to encapsulate attribute access and modification with custom logic .Its defined using the property syntax before a method defination within a class .Property decorators are useful for managing object states data validation, and creating read only or computed attributes."
      ],
      "metadata": {
        "id": "NnRinFKNZkg6"
      }
    },
    {
      "cell_type": "code",
      "source": [
        "class Circle:\n",
        "  def __init__(self,radius):\n",
        "    self._radius = radius\n",
        "  @property\n",
        "  def radius(self):\n",
        "    return self._radius\n",
        "\n",
        "  @radius.setter\n",
        "  def radius(self,value):\n",
        "    if value <= 0:\n",
        "       self._radius = value\n",
        "    else:\n",
        "      raise ValueError(\"Radius cannot be negative or zero\")\n",
        "  @property\n",
        "  def area(self):\n",
        "    return 3.14 * self.radius ** 2"
      ],
      "metadata": {
        "id": "XF3pxaMBap8y"
      },
      "execution_count": 6,
      "outputs": []
    }
  ]
}