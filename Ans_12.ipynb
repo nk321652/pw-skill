{
  "nbformat": 4,
  "nbformat_minor": 0,
  "metadata": {
    "colab": {
      "provenance": []
    },
    "kernelspec": {
      "name": "python3",
      "display_name": "Python 3"
    },
    "language_info": {
      "name": "python"
    }
  },
  "cells": [
    {
      "cell_type": "markdown",
      "source": [
        "Method overriding a subclass provides a spcific implementation for a method that is already defined in its superclass or parent class.This allows the subclass to modify or extend the methods behaviour while maintaining the same method signature as the subclass."
      ],
      "metadata": {
        "id": "2o8Owh2lYXB-"
      }
    },
    {
      "cell_type": "code",
      "source": [
        "class Animal:\n",
        "  def makesound(self):\n",
        "    print(\"Generic animal sound\")\n",
        "\n",
        "class Dog(Animal):\n",
        "  def makesound(self):\n",
        "    print(\"Woof!\")\n",
        "\n",
        "class Cat(Animal):\n",
        "  def makesound(self):\n",
        "    print(\"Meow!\")"
      ],
      "metadata": {
        "id": "EsYSSD4sZE3j"
      },
      "execution_count": 2,
      "outputs": []
    }
  ]
}