{
  "nbformat": 4,
  "nbformat_minor": 0,
  "metadata": {
    "colab": {
      "provenance": []
    },
    "kernelspec": {
      "name": "python3",
      "display_name": "Python 3"
    },
    "language_info": {
      "name": "python"
    }
  },
  "cells": [
    {
      "cell_type": "markdown",
      "source": [
        "Method overloading in python refers to the ability to define multiple methods with the same name within a class, but with different parameters . This allows a single method name to perform different actions based on the number or type of arguments passed to it. However , python does not support traditional method overloading in the same way as languages like java or C++."
      ],
      "metadata": {
        "id": "kk6q_LclWwaY"
      }
    },
    {
      "cell_type": "code",
      "source": [
        "class Calculator:\n",
        "    def add(self, a, b=None , c=None):\n",
        "        if b is not None and c is not None:\n",
        "            return a + b + c\n",
        "        elif b is not None:\n",
        "            return a+b\n",
        "        else:\n",
        "            return a\n",
        "\n",
        "calc = Calculator()\n",
        "print(calc.add(5))\n",
        "print(calc.add(5,10))\n",
        "print(calc.add(5,10,15))\n"
      ],
      "metadata": {
        "colab": {
          "base_uri": "https://localhost:8080/"
        },
        "id": "gcqBjJ-FXdGZ",
        "outputId": "38121278-392c-468b-b2d3-efdaa6adcd14"
      },
      "execution_count": 1,
      "outputs": [
        {
          "output_type": "stream",
          "name": "stdout",
          "text": [
            "5\n",
            "15\n",
            "30\n"
          ]
        }
      ]
    }
  ]
}