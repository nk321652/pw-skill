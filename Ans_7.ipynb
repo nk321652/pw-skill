{
  "nbformat": 4,
  "nbformat_minor": 0,
  "metadata": {
    "colab": {
      "provenance": []
    },
    "kernelspec": {
      "name": "python3",
      "display_name": "Python 3"
    },
    "language_info": {
      "name": "python"
    }
  },
  "cells": [
    {
      "cell_type": "markdown",
      "source": [
        "polymorphism one of the core principles of object oriented programming allows objects of different classes to respond to the same method call in their own specific ways . The term originated from greek meaning many forms . It enables a single interface to represents different underlying forms .\n",
        "\n",
        "In inheritance a subclass can redife a method of its parent class .When the method is called on an object of the subclasses the subclasses version of the method is executed demonstrating polymorphism.\n",
        "\n",
        "Pythons dynamic typing allows object to be treated based on their behaviour and rather than their specific type."
      ],
      "metadata": {
        "id": "uwwI5pTKfFR3"
      }
    },
    {
      "cell_type": "code",
      "source": [
        "class Animal:\n",
        "  def speak(self):\n",
        "    print(\"Generic animal sound\")\n",
        "\n",
        "class Dog(animal):\n",
        "  def speak(self):\n",
        "    print(\"woof!\")\n",
        "\n",
        "def animal_sound(animal):\n",
        "  animal.speak()\n",
        "\n",
        "animal = animal()\n",
        "dog = Dog()\n",
        "cat = Cat()\n",
        "\n",
        "animal_sound(animal)\n",
        "animal_sound(dog)\n",
        "animal_sound(cat)\n",
        "\n",
        "\n",
        "Generic animal sound\n",
        "Woof!\n",
        "Meow!\n",
        "\n",
        "\n"
      ],
      "metadata": {
        "id": "3Is3lRwKgoIx"
      },
      "execution_count": null,
      "outputs": []
    }
  ]
}