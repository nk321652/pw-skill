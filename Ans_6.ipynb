{
  "nbformat": 4,
  "nbformat_minor": 0,
  "metadata": {
    "colab": {
      "provenance": []
    },
    "kernelspec": {
      "name": "python3",
      "display_name": "Python 3"
    },
    "language_info": {
      "name": "python"
    }
  },
  "cells": [
    {
      "cell_type": "markdown",
      "source": [
        "Inheritance in python OOP allows a class to inherit attributes and methods from another class.\n",
        "This promotes code reuse and establishes relationships between classes . There are several types of inheritance in python.\n",
        "\n",
        "\n",
        "\n",
        "*   Single Inheritance\n",
        "*   Multiple Inheritance\n",
        "*   Multilevel Inheritance\n",
        "*   Hierarcial Inheritance\n",
        "*   Hybrid Inheritance\n",
        "\n",
        "\n"
      ],
      "metadata": {
        "id": "RVlvc_2daHPc"
      }
    },
    {
      "cell_type": "code",
      "source": [
        "class animal:\n",
        "  def __init__(self ,name ):\n",
        "    self.name = name\n",
        "  def speak(self):\n",
        "    print(\"Generic animal sound\")\n",
        "\n",
        "class dog(animal):\n",
        "  def speak(self):\n",
        "    print(\"Woof!\")\n",
        "\n",
        "my_dog = dog(\"Buddy\")\n",
        "my_dog.speak()\n",
        "print(\"Generic animal sound\")\n",
        "\n",
        "class dog(animal):\n",
        "  def speak(self):\n",
        "    print(\"Woof!\")\n",
        "\n",
        "my_dog = dog(\"Buddy\")\n",
        "my_dog.speak()"
      ],
      "metadata": {
        "colab": {
          "base_uri": "https://localhost:8080/"
        },
        "id": "XP092VKcbFCO",
        "outputId": "4b6bd5eb-24ee-45f5-f971-5afbf12a97d0"
      },
      "execution_count": 9,
      "outputs": [
        {
          "output_type": "stream",
          "name": "stdout",
          "text": [
            "Woof!\n",
            "Generic animal sound\n",
            "Woof!\n"
          ]
        }
      ]
    },
    {
      "cell_type": "code",
      "source": [
        "class Flyable:\n",
        "  def fly(self):\n",
        "    print(\"can fly\")\n",
        "\n",
        "class swimmable:\n",
        "  def swim(self):\n",
        "    print(\"can swim\")\n",
        "\n",
        "class flyingfish(Flyable , swimmable):\n",
        "  pass\n",
        "\n",
        "fish = flyingfish()\n",
        "fish.fly()\n",
        "fish.swim()"
      ],
      "metadata": {
        "colab": {
          "base_uri": "https://localhost:8080/"
        },
        "id": "t38HOgHNcdFw",
        "outputId": "b6a3ddf1-323e-4f99-9e58-379ae9783251"
      },
      "execution_count": 12,
      "outputs": [
        {
          "output_type": "stream",
          "name": "stdout",
          "text": [
            "can fly\n",
            "can swim\n"
          ]
        }
      ]
    },
    {
      "cell_type": "code",
      "source": [
        "class vehicle:\n",
        "  def move(self):\n",
        "    print(\"vehicle is moving\")\n",
        "\n",
        "class car (vehicle):\n",
        "  def move(self):\n",
        "    print(\"car is moving\")\n",
        "\n",
        "class bike(vehicle):\n",
        "  pass\n",
        "\n",
        "my_car = car()\n",
        "my_bike = bike()\n",
        "\n",
        "my_car.move()\n",
        "my_bike.move()\n",
        "class car (vehicle):\n",
        "  def move(self):\n",
        "    print(\"car is moving\")\n",
        "\n",
        "class bike(vehicle):\n",
        "  pass\n",
        "\n",
        "my_car = car()\n",
        "my_bike = bike()\n",
        "\n",
        "my_car.move()\n",
        "my_bike.move()"
      ],
      "metadata": {
        "colab": {
          "base_uri": "https://localhost:8080/"
        },
        "id": "9zc9QDnadDf_",
        "outputId": "4126245b-f8bb-4529-c6de-74c01e7f1cd5"
      },
      "execution_count": 5,
      "outputs": [
        {
          "output_type": "stream",
          "name": "stdout",
          "text": [
            "car is moving\n",
            "vehicle is moving\n",
            "car is moving\n",
            "vehicle is moving\n"
          ]
        }
      ]
    }
  ]
}