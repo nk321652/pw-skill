{
  "nbformat": 4,
  "nbformat_minor": 0,
  "metadata": {
    "colab": {
      "provenance": []
    },
    "kernelspec": {
      "name": "python3",
      "display_name": "Python 3"
    },
    "language_info": {
      "name": "python"
    }
  },
  "cells": [
    {
      "cell_type": "markdown",
      "source": [
        "Polymorphim is crucial in object oriented programming because it enables a single interface tp handle different types of objects promoting code reusability flexibility and maintainability. It allows objects of different classes to be treated of different classes to be treated as objects of a common superclass or interface simlyfying code and making it easier to extend and modify.\n",
        "\n",
        "polymorphism allows you to write code that can work with different types of objects without needing seperate code for each type.\n",
        "\n",
        "With polymorphism you can add new classes or modified existing ones without having to change the code that uses them .\n",
        "\n",
        "This makes the code cleaner easier to read and maintining .\n",
        "\n",
        "By enabling code reusability flexibility and extensibility polymorphism allows developers to create more efficient and adaptives software system."
      ],
      "metadata": {
        "id": "vb_OkHrfcLbf"
      }
    }
  ]
}