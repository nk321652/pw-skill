{
  "nbformat": 4,
  "nbformat_minor": 0,
  "metadata": {
    "colab": {
      "provenance": []
    },
    "kernelspec": {
      "name": "python3",
      "display_name": "Python 3"
    },
    "language_info": {
      "name": "python"
    }
  },
  "cells": [
    {
      "cell_type": "markdown",
      "source": [
        "An abstract class in python is a class that cannot be instantiated directly and serves as a blueprint for other classes.It defines method s that subclasses must implement ensuring a consistent interface accross related classes . Abstaract classes are created using the abc module and the methods are declared using the @abstractmethod decorators and lack implementation inthe abstract class . Sunclasses are required to provide concrete implementionsfor these abstract methods.\n"
      ],
      "metadata": {
        "id": "eNkILZm2fixP"
      }
    },
    {
      "cell_type": "code",
      "source": [
        "from abc import Abc , abstractmethod\n",
        "\n",
        "class Shape(ABC):\n",
        "  @abstractmethod\n",
        "  def area(self):\n",
        "    pass\n",
        "\n",
        "  @abstractmethod\n",
        "  def perimeter(self):\n",
        "    pass\n",
        "\n",
        "class Circle(Shape):\n",
        "  def __init__(self, radius):\n",
        "    self.radius = radius\n",
        "\n",
        "  def area(self):\n",
        "    return 3.14 * (self.radius * self.radius)\n",
        "\n",
        "  def perimeter(self):\n",
        "    return 2 * 3.14 * self.radius\n",
        "\n",
        "class Square(Shape):\n",
        "  def __init__(self, side):\n",
        "    self.side = side\n",
        "\n",
        "  def area(self):\n",
        "    return self.side * self.side\n",
        "\n",
        "  def perimeter(self):\n",
        "    return 4 * self.side\n",
        "\n",
        "circle = circle(5)\n",
        "print(f\"Circle Area: {circle.area()}\")\n",
        "print(f\"Circle Perimeter: {circle.perimeter()}\")\n",
        "\n",
        "from abc import ABC , abstractmethod\n",
        "\n",
        "class Shape(ABC):\n",
        "  @abstractmethod\n",
        "  def area(self):\n",
        "    pass\n",
        "\n",
        "  @abstractmethod\n",
        "  def perimeter(self):\n",
        "    pass\n",
        "\n",
        "class Circle(Shape):\n",
        "  def __init__(self, radius):\n",
        "    self.radius = radius\n",
        "\n",
        "  def area(self):\n",
        "    return 3.14 * (self.radius * self.radius)\n",
        "\n",
        "  def perimeter(self):\n",
        "    return 2 * 3.14 * self.radius\n",
        "\n",
        "class Square(Shape):\n",
        "  def __init__(self, side):\n",
        "    self.side = side\n",
        "\n",
        "  def area(self):\n",
        "    return self.side * self.side\n",
        "\n",
        "  def perimeter(self):\n",
        "    return 4 * self.side\n",
        "\n",
        "circle = Circle(5)\n",
        "print(f\"Circle Area: {circle.area()}\")\n",
        "print(f\"Circle Perimeter: {circle.perimeter()}\")\n",
        "\n",
        "square = Square(4)\n",
        "print(f\"Square Area: {square.area()}\")\n",
        "print(f\"Square Perimeter: {square.perimeter()}\")"
      ],
      "metadata": {
        "id": "x2-oxR9agVoK"
      },
      "execution_count": null,
      "outputs": []
    }
  ]
}