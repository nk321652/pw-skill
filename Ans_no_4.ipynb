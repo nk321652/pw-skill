{
  "nbformat": 4,
  "nbformat_minor": 0,
  "metadata": {
    "colab": {
      "provenance": []
    },
    "kernelspec": {
      "name": "python3",
      "display_name": "Python 3"
    },
    "language_info": {
      "name": "python"
    }
  },
  "cells": [
    {
      "cell_type": "markdown",
      "source": [
        "**Abstraction**"
      ],
      "metadata": {
        "id": "eFAYVEpFR-wm"
      }
    },
    {
      "cell_type": "markdown",
      "source": [
        "Abstraction involves simplifying complex reality by modeling classes appropriate to the problem , and at the right level of details . It hides unnecessary implementation details from the user and exposes only the essential information.\n"
      ],
      "metadata": {
        "id": "vGOo8klDSFn_"
      }
    },
    {
      "cell_type": "code",
      "source": [
        "from abc import ABC , abstractmethod\n",
        "\n",
        "class Shape(ABC):\n",
        "  @abstractmethod\n",
        "  def area(self):\n",
        "    pass\n",
        "\n",
        "\n",
        "  @abstractmethod\n",
        "   def perimeter(self):\n",
        "    pass\n",
        "\n",
        "class Rectangle(Shape):\n",
        "  def __init__(self , radius):\n",
        "    self.radius = radius\n",
        "\n",
        "  def area(self):\n",
        "    return 2 * 3.14 * self.radius\n",
        "\n",
        "  def perimeter(self):\n",
        "    return 2 * 3.14 * self.radius\n",
        "\n",
        "  class Circle(Shape):\n",
        "    def __init__(self ,length , width):\n",
        "      self.length = length\n",
        "      self.width = width\n",
        "\n",
        "    def area(self):\n",
        "      return self.length * self.width\n",
        "\n",
        "    def perimeter(self):\n",
        "      return 2 * (self.length + self.width)\n",
        "\n",
        "      circle = circle (5)\n",
        "      rectangle = Rectangle(4,6)\n",
        "\n",
        "      print(f\"Circle Area: {circle.area()}\")\n",
        "      print(f\"Rectangle perimeter: {rectangle.perimeter()}\")"
      ],
      "metadata": {
        "id": "oTzoU4auShAr"
      },
      "execution_count": null,
      "outputs": []
    },
    {
      "cell_type": "markdown",
      "source": [
        "Encapsulation"
      ],
      "metadata": {
        "id": "M_ry1msAU-p6"
      }
    },
    {
      "cell_type": "markdown",
      "source": [
        "Encapsulation involves bundling the data and methods that operate on the data into a single unit .It also resticts direct access to some of the objects components , protecting the intigrity of the dat."
      ],
      "metadata": {
        "id": "w_JDCY4VVEcI"
      }
    },
    {
      "cell_type": "code",
      "source": [
        "class person :\n",
        "  def __init__(self , name , age):\n",
        "    self.name = name\n",
        "    self._age = age\n",
        "\n",
        "  def get_age(self):\n",
        "    return self._age\n",
        "\n",
        "  def set_age(self , age):\n",
        "    if age > 0:\n",
        "      self._age = age\n",
        "    else:\n",
        "      print(\"Invalid age!\")\n",
        "\n",
        "  def get_age(self):\n",
        "    return self._age\n",
        "\n",
        "  def set_age(self , age):\n",
        "    if age > 0:\n",
        "      self._age = age\n",
        "    else:\n",
        "      print(\"Invalid age!\")"
      ],
      "metadata": {
        "id": "DRdKqfl1VcTV"
      },
      "execution_count": 10,
      "outputs": []
    }
  ]
}