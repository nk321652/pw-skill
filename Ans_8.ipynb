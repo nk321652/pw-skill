{
  "nbformat": 4,
  "nbformat_minor": 0,
  "metadata": {
    "colab": {
      "provenance": []
    },
    "kernelspec": {
      "name": "python3",
      "display_name": "Python 3"
    },
    "language_info": {
      "name": "python"
    }
  },
  "cells": [
    {
      "cell_type": "markdown",
      "source": [
        " Encapsulation in python is achieved by restricting access to certain parts of an objects data using access modifiers and getter/setter methods."
      ],
      "metadata": {
        "id": "DYUA09BKi7qX"
      }
    },
    {
      "cell_type": "code",
      "source": [
        "class person:\n",
        "  def__init__(self):\n",
        "    self.name = \"john\"\n",
        "\n",
        "p = perso()\n",
        "print(p.name)"
      ],
      "metadata": {
        "id": "24Yyx_a_jmZc"
      },
      "execution_count": null,
      "outputs": []
    },
    {
      "cell_type": "code",
      "source": [
        "class person:\n",
        "  def __init__(self):\n",
        "    self.__age = 30\n",
        "\n",
        "p = person()\n",
        "print(p._person__age)\n",
        "p = person()\n",
        "print(p.age)"
      ],
      "metadata": {
        "id": "W7RVxbaCj9QW"
      },
      "execution_count": null,
      "outputs": []
    },
    {
      "cell_type": "code",
      "source": [
        "class person:\n",
        "  def__init__(self):\n",
        "    self.__salary = 50000\n",
        "\n",
        "    def get salary(self):\n",
        "      def set_salary(self,amount):\n",
        "        if amount > 0:\n",
        "          self.__salary = amount\n",
        "        else:\n",
        "          print(\"invalid salary\")"
      ],
      "metadata": {
        "id": "s7vGVaM2lOu9"
      },
      "execution_count": null,
      "outputs": []
    }
  ]
}